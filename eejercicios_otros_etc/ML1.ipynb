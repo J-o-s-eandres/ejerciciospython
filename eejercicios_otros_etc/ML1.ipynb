{
 "cells": [
  {
   "cell_type": "code",
   "execution_count": 1,
   "id": "9fd334c7",
   "metadata": {},
   "outputs": [
    {
     "data": {
      "text/plain": [
       "array(['basket', 'baseball', 'basket', 'baseball', 'basket', 'baseball'],\n",
       "      dtype=object)"
      ]
     },
     "execution_count": 1,
     "metadata": {},
     "output_type": "execute_result"
    }
   ],
   "source": [
    "#Teniendo un dataset con los siguientes datos (genero, edad y deporte), entrene un modelo para poder saber que \n",
    "#deporte elegiria una persona de genero x en una edad x. \n",
    "\n",
    "import pandas as pd\n",
    "from sklearn.tree import DecisionTreeClassifier\n",
    "import joblib\n",
    "dataset = pd.read_csv('deportes.csv')\n",
    "inputs = dataset.drop(columns=['deporte'])\n",
    "outputs = dataset['deporte']\n",
    "#dataset['deporte']\n",
    "\n",
    "#modelo = DecisionTreeClassifier()\n",
    "\n",
    "#modelo.fit(inputs, outputs)\n",
    "\n",
    "\n",
    "#oblib.dump(modelo, 'deportes-ml.joblib')\n",
    "\n",
    "#dataset\n",
    "\n",
    "modelo= joblib.load('deportes-ml.joblib')\n",
    "predicciones = modelo.predict([ [1,24],[2,33],[1,25],[2,30],[1,19],[2,40] ])\n",
    "\n",
    "\n",
    "predicciones \n"
   ]
  },
  {
   "cell_type": "code",
   "execution_count": null,
   "id": "bfe140ee",
   "metadata": {},
   "outputs": [],
   "source": []
  },
  {
   "cell_type": "code",
   "execution_count": null,
   "id": "e23c8419",
   "metadata": {},
   "outputs": [],
   "source": []
  },
  {
   "cell_type": "code",
   "execution_count": null,
   "id": "6ec3dfcc",
   "metadata": {},
   "outputs": [],
   "source": []
  }
 ],
 "metadata": {
  "kernelspec": {
   "display_name": "Python 3",
   "language": "python",
   "name": "python3"
  },
  "language_info": {
   "codemirror_mode": {
    "name": "ipython",
    "version": 3
   },
   "file_extension": ".py",
   "mimetype": "text/x-python",
   "name": "python",
   "nbconvert_exporter": "python",
   "pygments_lexer": "ipython3",
   "version": "3.10.0"
  },
  "vscode": {
   "interpreter": {
    "hash": "a647ccd4e00ec01e90f3b795f02588edec403b8d01c89c5a8b84bba075f0546b"
   }
  }
 },
 "nbformat": 4,
 "nbformat_minor": 5
}
